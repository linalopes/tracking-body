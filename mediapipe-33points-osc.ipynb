{
 "cells": [
  {
   "cell_type": "markdown",
   "metadata": {},
   "source": [
    "# Imports\n",
    "\n",
    "- cv2: To capture and manipulate video frames (e.g., from a webcam) and prepare them for processing.\n",
    "- mediapipe: To analyze video frames and extract landmarks (e.g., hand or face tracking). This is the machine-learning model used in this project.\n",
    "- python-osc: To send processed data (e.g., landmark positions) via the OSC protocol to external software or devices. In this case, it's sending to processing 4.\n",
    "\n",
    "\n",
    "Make sure to have the following installed in the enviroment:\n",
    "- `mediapipe`: For landmark detection.\n",
    "- `python-osc`: To send data via OSC.\n",
    "- `cv2` (OpenCV): To capture and handle video frames."
   ]
  },
  {
   "cell_type": "code",
   "execution_count": 1,
   "metadata": {},
   "outputs": [],
   "source": [
    "import cv2\n",
    "import mediapipe as mp\n",
    "import os\n",
    "from pythonosc.udp_client import SimpleUDPClient"
   ]
  },
  {
   "cell_type": "markdown",
   "metadata": {},
   "source": [
    "# Setting Up OSC and MediaPipe\n",
    "\n",
    "In this section, we will configure two key components of our project:\n",
    "\n",
    "1. **MediaPipe**: A powerful library for real-time perception tasks such as hand tracking, face detection, and pose estimation. It processes video frames to extract meaningful landmarks (e.g., hand positions) which we can use creatively.\n",
    "   \n",
    "2. **OSC (Open Sound Control)**: A protocol used to send data between different software or hardware. We'll use the Python-OSC library to transmit the data extracted by MediaPipe to other applications, such as Processing or Max/MSP.\n",
    "\n",
    "The code below initializes these components and prepares them to work together.\n"
   ]
  },
  {
   "cell_type": "code",
   "execution_count": 2,
   "metadata": {},
   "outputs": [
    {
     "name": "stderr",
     "output_type": "stream",
     "text": [
      "WARNING: All log messages before absl::InitializeLog() is called are written to STDERR\n",
      "I0000 00:00:1734086521.898584  240593 gl_context.cc:357] GL version: 2.1 (2.1 Metal - 88.1), renderer: Apple M3\n"
     ]
    },
    {
     "name": "stderr",
     "output_type": "stream",
     "text": [
      "INFO: Created TensorFlow Lite XNNPACK delegate for CPU.\n",
      "W0000 00:00:1734086521.960781  243742 inference_feedback_manager.cc:114] Feedback manager requires a model with a single signature inference. Disabling support for feedback tensors.\n",
      "W0000 00:00:1734086521.972310  243748 inference_feedback_manager.cc:114] Feedback manager requires a model with a single signature inference. Disabling support for feedback tensors.\n"
     ]
    }
   ],
   "source": [
    "# Setup OSC\n",
    "OSC_IP = \"127.0.0.1\"  # Local address\n",
    "OSC_PORT = 12000       # Port for Processing\n",
    "client = SimpleUDPClient(OSC_IP, OSC_PORT)\n",
    "\n",
    "# Setup MediaPipe\n",
    "mp_pose = mp.solutions.pose\n",
    "pose = mp_pose.Pose()\n",
    "mp_drawing = mp.solutions.drawing_utils"
   ]
  },
  {
   "cell_type": "markdown",
   "metadata": {},
   "source": [
    "# Listing Available Camera Devices\n",
    "\n",
    "Before starting the video capture, it's important to know which camera devices are available in the system. This step scans for connected cameras and lists their indices (used to access them in OpenCV) along with their names (if supported). \n",
    "\n",
    "Use this information to select the correct camera for the application. If no cameras are detected, ensure your device is connected properly or check for driver issues.\n"
   ]
  },
  {
   "cell_type": "code",
   "execution_count": 3,
   "metadata": {},
   "outputs": [
    {
     "name": "stdout",
     "output_type": "stream",
     "text": [
      "Scanning for available camera devices...\n"
     ]
    },
    {
     "name": "stderr",
     "output_type": "stream",
     "text": [
      "2024-12-13 11:42:05.485 python[7353:240593] WARNING: AVCaptureDeviceTypeExternal is deprecated for Continuity Cameras. Please use AVCaptureDeviceTypeContinuityCamera and add NSCameraUseContinuityCameraDeviceType to your Info.plist.\n"
     ]
    },
    {
     "name": "stdout",
     "output_type": "stream",
     "text": [
      "Index 0: Unknown\n",
      "Index 1: Unknown\n",
      "Index 2: Unknown\n",
      "[12/13 11:42:07.762632][info][240593][Context.cpp:69] Context created with config: default config!\n",
      "[12/13 11:42:07.762653][info][240593][Context.cpp:74] Context work_dir=/Users/linalopes/Desktop/tracking-body\n",
      "[12/13 11:42:07.762654][info][240593][Context.cpp:77] \t- SDK version: 1.9.4\n",
      "[12/13 11:42:07.762656][info][240593][Context.cpp:78] \t- SDK stage version: main\n",
      "[12/13 11:42:07.762658][info][240593][Context.cpp:82] get config EnumerateNetDevice:false\n",
      "[12/13 11:42:07.762660][info][240593][MacPal.cpp:36] createObPal: create MacPal!\n",
      "[12/13 11:42:07.767297][info][240593][MacPal.cpp:104] Create PollingDeviceWatcher!\n",
      "[12/13 11:42:07.767305][info][240593][DeviceManager.cpp:15] Current found device(s): (0)\n",
      "[12/13 11:42:07.767308][info][240593][Pipeline.cpp:15] Try to create pipeline with default device.\n",
      "[12/13 11:42:07.767310][warning][240593][ObException.cpp:5] No device found, fail to create pipeline!\n",
      "[12/13 11:42:07.768842][info][240593][Context.cpp:90] Context destroyed\n",
      "Index 3: No device detected.\n",
      "[12/13 11:42:07.783432][info][240593][Context.cpp:69] Context created with config: default config!\n",
      "[12/13 11:42:07.783446][info][240593][Context.cpp:74] Context work_dir=/Users/linalopes/Desktop/tracking-body\n",
      "[12/13 11:42:07.783447][info][240593][Context.cpp:77] \t- SDK version: 1.9.4\n",
      "[12/13 11:42:07.783448][info][240593][Context.cpp:78] \t- SDK stage version: main\n",
      "[12/13 11:42:07.783451][info][240593][Context.cpp:82] get config EnumerateNetDevice:false\n",
      "[12/13 11:42:07.783452][info][240593][MacPal.cpp:36] createObPal: create MacPal!\n",
      "[12/13 11:42:07.784048][info][240593][MacPal.cpp:104] Create PollingDeviceWatcher!\n",
      "[12/13 11:42:07.784052][info][240593][DeviceManager.cpp:15] Current found device(s): (0)\n",
      "[12/13 11:42:07.784054][info][240593][Pipeline.cpp:15] Try to create pipeline with default device.\n",
      "[12/13 11:42:07.784059][warning][240593][ObException.cpp:5] No device found, fail to create pipeline!\n",
      "[12/13 11:42:07.784306][info][240593][Context.cpp:90] Context destroyed\n",
      "Index 4: No device detected.\n",
      "[12/13 11:42:07.796429][info][240593][Context.cpp:69] Context created with config: default config!\n",
      "[12/13 11:42:07.796442][info][240593][Context.cpp:74] Context work_dir=/Users/linalopes/Desktop/tracking-body\n",
      "[12/13 11:42:07.796443][info][240593][Context.cpp:77] \t- SDK version: 1.9.4\n",
      "[12/13 11:42:07.796443][info][240593][Context.cpp:78] \t- SDK stage version: main\n",
      "[12/13 11:42:07.796445][info][240593][Context.cpp:82] get config EnumerateNetDevice:false\n",
      "[12/13 11:42:07.796446][info][240593][MacPal.cpp:36] createObPal: create MacPal!\n",
      "[12/13 11:42:07.796976][info][240593][MacPal.cpp:104] Create PollingDeviceWatcher!\n",
      "[12/13 11:42:07.796980][info][240593][DeviceManager.cpp:15] Current found device(s): (0)\n",
      "[12/13 11:42:07.796981][info][240593][Pipeline.cpp:15] Try to create pipeline with default device.\n",
      "[12/13 11:42:07.796983][warning][240593][ObException.cpp:5] No device found, fail to create pipeline!\n",
      "[12/13 11:42:07.797199][info][240593][Context.cpp:90] Context destroyed\n",
      "Index 5: No device detected.\n",
      "[12/13 11:42:07.808722][info][240593][Context.cpp:69] Context created with config: default config!\n",
      "[12/13 11:42:07.808746][info][240593][Context.cpp:74] Context work_dir=/Users/linalopes/Desktop/tracking-body\n",
      "[12/13 11:42:07.808747][info][240593][Context.cpp:77] \t- SDK version: 1.9.4\n",
      "[12/13 11:42:07.808748][info][240593][Context.cpp:78] \t- SDK stage version: main\n",
      "[12/13 11:42:07.808750][info][240593][Context.cpp:82] get config EnumerateNetDevice:false\n",
      "[12/13 11:42:07.808751][info][240593][MacPal.cpp:36] createObPal: create MacPal!\n",
      "[12/13 11:42:07.809285][info][240593][MacPal.cpp:104] Create PollingDeviceWatcher!\n",
      "[12/13 11:42:07.809294][info][240593][DeviceManager.cpp:15] Current found device(s): (0)\n",
      "[12/13 11:42:07.809296][info][240593][Pipeline.cpp:15] Try to create pipeline with default device.\n",
      "[12/13 11:42:07.809297][warning][240593][ObException.cpp:5] No device found, fail to create pipeline!\n",
      "[12/13 11:42:07.809678][info][240593][Context.cpp:90] Context destroyed\n",
      "Index 6: No device detected.\n",
      "[12/13 11:42:07.820669][info][240593][Context.cpp:69] Context created with config: default config!\n",
      "[12/13 11:42:07.820684][info][240593][Context.cpp:74] Context work_dir=/Users/linalopes/Desktop/tracking-body\n",
      "[12/13 11:42:07.820685][info][240593][Context.cpp:77] \t- SDK version: 1.9.4\n",
      "[12/13 11:42:07.820685][info][240593][Context.cpp:78] \t- SDK stage version: main\n",
      "[12/13 11:42:07.820688][info][240593][Context.cpp:82] get config EnumerateNetDevice:false\n",
      "[12/13 11:42:07.820689][info][240593][MacPal.cpp:36] createObPal: create MacPal!\n",
      "[12/13 11:42:07.821450][info][240593][MacPal.cpp:104] Create PollingDeviceWatcher!\n",
      "[12/13 11:42:07.821456][info][240593][DeviceManager.cpp:15] Current found device(s): (0)\n",
      "[12/13 11:42:07.821458][info][240593][Pipeline.cpp:15] Try to create pipeline with default device.\n",
      "[12/13 11:42:07.821460][warning][240593][ObException.cpp:5] No device found, fail to create pipeline!\n",
      "[12/13 11:42:07.821756][info][240593][Context.cpp:90] Context destroyed\n",
      "Index 7: No device detected.\n",
      "[12/13 11:42:07.832190][info][240593][Context.cpp:69] Context created with config: default config!\n",
      "[12/13 11:42:07.832203][info][240593][Context.cpp:74] Context work_dir=/Users/linalopes/Desktop/tracking-body\n",
      "[12/13 11:42:07.832204][info][240593][Context.cpp:77] \t- SDK version: 1.9.4\n",
      "[12/13 11:42:07.832205][info][240593][Context.cpp:78] \t- SDK stage version: main\n",
      "[12/13 11:42:07.832207][info][240593][Context.cpp:82] get config EnumerateNetDevice:false\n",
      "[12/13 11:42:07.832208][info][240593][MacPal.cpp:36] createObPal: create MacPal!\n",
      "[12/13 11:42:07.832637][info][240593][MacPal.cpp:104] Create PollingDeviceWatcher!\n",
      "[12/13 11:42:07.832640][info][240593][DeviceManager.cpp:15] Current found device(s): (0)\n",
      "[12/13 11:42:07.832642][info][240593][Pipeline.cpp:15] Try to create pipeline with default device.\n",
      "[12/13 11:42:07.832643][warning][240593][ObException.cpp:5] No device found, fail to create pipeline!\n",
      "[12/13 11:42:07.832842][info][240593][Context.cpp:90] Context destroyed\n",
      "Index 8: No device detected.\n",
      "[12/13 11:42:07.842542][info][240593][Context.cpp:69] Context created with config: default config!\n",
      "[12/13 11:42:07.842557][info][240593][Context.cpp:74] Context work_dir=/Users/linalopes/Desktop/tracking-body\n",
      "[12/13 11:42:07.842558][info][240593][Context.cpp:77] \t- SDK version: 1.9.4\n",
      "[12/13 11:42:07.842559][info][240593][Context.cpp:78] \t- SDK stage version: main\n",
      "[12/13 11:42:07.842561][info][240593][Context.cpp:82] get config EnumerateNetDevice:false\n",
      "[12/13 11:42:07.842562][info][240593][MacPal.cpp:36] createObPal: create MacPal!\n",
      "[12/13 11:42:07.843294][info][240593][MacPal.cpp:104] Create PollingDeviceWatcher!\n",
      "[12/13 11:42:07.843298][info][240593][DeviceManager.cpp:15] Current found device(s): (0)\n",
      "[12/13 11:42:07.843300][info][240593][Pipeline.cpp:15] Try to create pipeline with default device.\n",
      "[12/13 11:42:07.843302][warning][240593][ObException.cpp:5] No device found, fail to create pipeline!\n",
      "[12/13 11:42:07.843541][info][240593][Context.cpp:90] Context destroyed\n",
      "Index 9: No device detected.\n"
     ]
    },
    {
     "name": "stderr",
     "output_type": "stream",
     "text": [
      "OpenCV: out device of bound (0-2): 3\n",
      "OpenCV: camera failed to properly initialize!\n",
      "[ WARN:0@8.537] global cap.cpp:323 open VIDEOIO(OBSENSOR): raised unknown C++ exception!\n",
      "\n",
      "\n",
      "OpenCV: out device of bound (0-2): 4\n",
      "OpenCV: camera failed to properly initialize!\n",
      "[ WARN:0@8.553] global cap.cpp:323 open VIDEOIO(OBSENSOR): raised unknown C++ exception!\n",
      "\n",
      "\n",
      "OpenCV: out device of bound (0-2): 5\n",
      "OpenCV: camera failed to properly initialize!\n",
      "[ WARN:0@8.566] global cap.cpp:323 open VIDEOIO(OBSENSOR): raised unknown C++ exception!\n",
      "\n",
      "\n",
      "OpenCV: out device of bound (0-2): 6\n",
      "OpenCV: camera failed to properly initialize!\n",
      "[ WARN:0@8.578] global cap.cpp:323 open VIDEOIO(OBSENSOR): raised unknown C++ exception!\n",
      "\n",
      "\n",
      "OpenCV: out device of bound (0-2): 7\n",
      "OpenCV: camera failed to properly initialize!\n",
      "[ WARN:0@8.590] global cap.cpp:323 open VIDEOIO(OBSENSOR): raised unknown C++ exception!\n",
      "\n",
      "\n",
      "OpenCV: out device of bound (0-2): 8\n",
      "OpenCV: camera failed to properly initialize!\n",
      "[ WARN:0@8.601] global cap.cpp:323 open VIDEOIO(OBSENSOR): raised unknown C++ exception!\n",
      "\n",
      "\n",
      "OpenCV: out device of bound (0-2): 9\n",
      "OpenCV: camera failed to properly initialize!\n",
      "[ WARN:0@8.612] global cap.cpp:323 open VIDEOIO(OBSENSOR): raised unknown C++ exception!\n",
      "\n",
      "\n"
     ]
    }
   ],
   "source": [
    "def list_camera_devices():\n",
    "    \"\"\"Lists available camera devices with their names (if supported).\"\"\"\n",
    "    print(\"Scanning for available camera devices...\")\n",
    "    available_cameras = []\n",
    "    for index in range(6):  # Check up to 6 camera indices\n",
    "        cap = cv2.VideoCapture(index)\n",
    "        if cap.isOpened():\n",
    "            # Try to fetch the camera's name, if available\n",
    "            camera_name = cap.get(cv2.CAP_PROP_DEVICE_NAME) if hasattr(cv2, 'CAP_PROP_DEVICE_NAME') else \"Unknown\"\n",
    "            print(f\"Index {index}: {camera_name}\")\n",
    "            available_cameras.append((index, camera_name))\n",
    "            cap.release()\n",
    "        else:\n",
    "            print(f\"Index {index}: No device detected.\")\n",
    "    if not available_cameras:\n",
    "        print(\"No camera devices found.\")\n",
    "    return available_cameras\n",
    "\n",
    "# Call the function to list devices before starting video capture\n",
    "cameras = list_camera_devices()\n",
    "if not cameras:\n",
    "    print(\"No cameras available. Exiting.\")\n",
    "    exit()\n"
   ]
  },
  {
   "cell_type": "markdown",
   "metadata": {},
   "source": [
    "# Video Capture and Processing Loop\n",
    "\n",
    "This part of the code is the heart of the program, where video frames are captured, processed, and visualized in real-time. Here's a breakdown of what each section does:\n",
    "\n",
    "1. **Video Capture Initialization**:\n",
    "   - `cv2.VideoCapture(2)`: Opens a connection to the webcam (or a specific video source). Replace `2` with `0` or `1` if the camera index needs adjustment for your system.\n",
    "\n",
    "2. **Frame Reading**:\n",
    "   - `ret, frame = cap.read()`: Reads each frame from the webcam. If `ret` is `False`, it means there are no more frames (e.g., the camera was disconnected).\n",
    "\n",
    "3. **Image Conversion**:\n",
    "   - `cv2.cvtColor(frame, cv2.COLOR_BGR2RGB)`: Converts the frame from BGR to RGB, as MediaPipe expects RGB images for processing.\n",
    "\n",
    "4. **MediaPipe Pose Processing**:\n",
    "   - `pose.process(rgb_frame)`: Processes the frame to detect pose landmarks. These landmarks represent keypoints (e.g., joints) of a human pose.\n",
    "\n",
    "5. **Visualization (Optional)**:\n",
    "   - `mp_drawing.draw_landmarks`: Draws the detected pose landmarks and their connections on the video frame for visualization.\n",
    "\n",
    "6. **Send Data via OSC**:\n",
    "   - The keypoints from `results.pose_landmarks` are normalized (values between 0 and 1) and prepared as a list. These are sent via OSC to external applications, such as Processing, using the `/pose` OSC address.\n",
    "\n",
    "7. **Video Display (Optional)**:\n",
    "   - `cv2.imshow('MediaPipe Pose', frame)`: Displays the video frame with landmarks overlaid. This helps verify the system's operation.\n",
    "\n",
    "8. **Quit the Loop**:\n",
    "   - `cv2.waitKey(1) & 0xFF == ord('q')`: Checks if the \"q\" key is pressed. If so, it breaks the loop and ends the program.\n",
    "\n",
    "9. **Release Resources**:\n",
    "   - `cap.release()`: Releases the webcam resource.\n",
    "   - `cv2.destroyAllWindows()`: Closes any OpenCV-created windows.\n",
    "\n",
    "This loop ensures continuous video capture and processing, making it possible to track pose landmarks in real-time and transmit their data seamlessly to other tools.\n"
   ]
  },
  {
   "cell_type": "code",
   "execution_count": 5,
   "metadata": {},
   "outputs": [
    {
     "ename": "KeyboardInterrupt",
     "evalue": "",
     "output_type": "error",
     "traceback": [
      "\u001b[0;31m---------------------------------------------------------------------------\u001b[0m",
      "\u001b[0;31mKeyboardInterrupt\u001b[0m                         Traceback (most recent call last)",
      "Cell \u001b[0;32mIn[5], line 26\u001b[0m\n\u001b[1;32m     23\u001b[0m     \u001b[38;5;66;03m# Show video with points (optional)\u001b[39;00m\n\u001b[1;32m     24\u001b[0m     cv2\u001b[38;5;241m.\u001b[39mimshow(\u001b[38;5;124m'\u001b[39m\u001b[38;5;124mMediaPipe Pose\u001b[39m\u001b[38;5;124m'\u001b[39m, frame)\n\u001b[0;32m---> 26\u001b[0m     \u001b[38;5;28;01mif\u001b[39;00m \u001b[43mcv2\u001b[49m\u001b[38;5;241;43m.\u001b[39;49m\u001b[43mwaitKey\u001b[49m\u001b[43m(\u001b[49m\u001b[38;5;241;43m1\u001b[39;49m\u001b[43m)\u001b[49m \u001b[38;5;241m&\u001b[39m \u001b[38;5;241m0xFF\u001b[39m \u001b[38;5;241m==\u001b[39m \u001b[38;5;28mord\u001b[39m(\u001b[38;5;124m'\u001b[39m\u001b[38;5;124mq\u001b[39m\u001b[38;5;124m'\u001b[39m):\n\u001b[1;32m     27\u001b[0m         \u001b[38;5;28;01mbreak\u001b[39;00m\n\u001b[1;32m     29\u001b[0m cap\u001b[38;5;241m.\u001b[39mrelease()\n",
      "\u001b[0;31mKeyboardInterrupt\u001b[0m: "
     ]
    }
   ],
   "source": [
    "# Video capture\n",
    "cap = cv2.VideoCapture(0) # Put here the index of the camera device\n",
    "\n",
    "while cap.isOpened():\n",
    "    ret, frame = cap.read()\n",
    "    if not ret:\n",
    "        break\n",
    "    \n",
    "    # Convert image to RGB (MediaPipe uses RGB)\n",
    "    rgb_frame = cv2.cvtColor(frame, cv2.COLOR_BGR2RGB)\n",
    "    results = pose.process(rgb_frame)\n",
    "\n",
    "    # Draw points on the frame (optional, for visualization)\n",
    "    if results.pose_landmarks:\n",
    "        mp_drawing.draw_landmarks(frame, results.pose_landmarks, mp_pose.POSE_CONNECTIONS)\n",
    "        \n",
    "        # Send keypoints via OSC\n",
    "        keypoints = []\n",
    "        for landmark in results.pose_landmarks.landmark:\n",
    "            keypoints.extend([landmark.x, landmark.y])  # Normalized (0-1)\n",
    "        client.send_message(\"/pose\", keypoints)\n",
    "\n",
    "    # Show video with points (optional)\n",
    "    cv2.imshow('MediaPipe Pose', frame)\n",
    "\n",
    "    if cv2.waitKey(1) & 0xFF == ord('q'):\n",
    "        break\n",
    "\n",
    "cap.release()\n",
    "cv2.destroyAllWindows()"
   ]
  }
 ],
 "metadata": {
  "kernelspec": {
   "display_name": "aicp",
   "language": "python",
   "name": "python3"
  },
  "language_info": {
   "codemirror_mode": {
    "name": "ipython",
    "version": 3
   },
   "file_extension": ".py",
   "mimetype": "text/x-python",
   "name": "python",
   "nbconvert_exporter": "python",
   "pygments_lexer": "ipython3",
   "version": "3.10.16"
  }
 },
 "nbformat": 4,
 "nbformat_minor": 2
}
