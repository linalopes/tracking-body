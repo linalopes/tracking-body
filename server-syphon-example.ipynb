{
 "cells": [
  {
   "cell_type": "code",
   "execution_count": 1,
   "metadata": {},
   "outputs": [
    {
     "name": "stderr",
     "output_type": "stream",
     "text": [
      "2024-12-04 18:57:14.431 python[31526:2233694] SYPHON DEBUG: SyphonServerConnectionManager: Start Connection\n",
      "2024-12-04 18:57:14.432 python[31526:2233694] SYPHON DEBUG: SyphonServerConnectionManager: Created connection with UUID: info.v002.Syphon.81B1CE38-86EE-44F2-A505-78DA90EA5E06\n",
      "2024-12-04 18:57:14.478 python[31526:2233694] SYPHON DEBUG: SyphonServerConnectionManager: Start Connection\n",
      "2024-12-04 18:57:14.478 python[31526:2233694] SYPHON DEBUG: SyphonServerConnectionManager: Created connection with UUID: info.v002.Syphon.B49E3D4A-741E-4BBB-AC94-8622AF624EB3\n",
      "2024-12-04 18:57:16.890 python[31526:2233694] WARNING: AVCaptureDeviceTypeExternal is deprecated for Continuity Cameras. Please use AVCaptureDeviceTypeContinuityCamera and add NSCameraUseContinuityCameraDeviceType to your Info.plist.\n",
      "2024-12-04 18:57:26.722 python[31526:2233694] SYPHON DEBUG: SyphonServerConnectionManager: Add info client: info.v002.Syphon.EE2A9CDD-8FAE-4ED8-A8C3-682CF03DB721\n",
      "2024-12-04 18:57:26.722 python[31526:2238223] SYPHON DEBUG: SyphonServerConnectionManager: Adding frame client: info.v002.Syphon.EE2A9CDD-8FAE-4ED8-A8C3-682CF03DB721\n",
      "2024-12-04 18:57:28.047 python[31526:2233694] SYPHON DEBUG: SyphonServerConnectionManager: Add info client: info.v002.Syphon.2A19A9C8-0302-4318-8C62-813CA2E92766\n",
      "2024-12-04 18:57:28.051 python[31526:2238213] SYPHON DEBUG: SyphonServerConnectionManager: Adding frame client: info.v002.Syphon.2A19A9C8-0302-4318-8C62-813CA2E92766\n",
      "2024-12-04 18:57:28.077 python[31526:2233694] SYPHON DEBUG: SyphonServerConnectionManager: Removing frame client: info.v002.Syphon.EE2A9CDD-8FAE-4ED8-A8C3-682CF03DB721\n",
      "2024-12-04 18:57:28.082 python[31526:2233694] SYPHON DEBUG: SyphonServerConnectionManager: Remove info client: info.v002.Syphon.EE2A9CDD-8FAE-4ED8-A8C3-682CF03DB721\n"
     ]
    },
    {
     "ename": "KeyboardInterrupt",
     "evalue": "",
     "output_type": "error",
     "traceback": [
      "\u001b[0;31m---------------------------------------------------------------------------\u001b[0m",
      "\u001b[0;31mKeyboardInterrupt\u001b[0m                         Traceback (most recent call last)",
      "\u001b[0;32m/var/folders/3q/cnhcx09j2sl7jctskk94y5280000gn/T/ipykernel_31526/1173638076.py\u001b[0m in \u001b[0;36m<cell line: 41>\u001b[0;34m()\u001b[0m\n\u001b[1;32m     40\u001b[0m \u001b[0;34m\u001b[0m\u001b[0m\n\u001b[1;32m     41\u001b[0m \u001b[0;32mif\u001b[0m \u001b[0m__name__\u001b[0m \u001b[0;34m==\u001b[0m \u001b[0;34m\"__main__\"\u001b[0m\u001b[0;34m:\u001b[0m\u001b[0;34m\u001b[0m\u001b[0;34m\u001b[0m\u001b[0m\n\u001b[0;32m---> 42\u001b[0;31m     \u001b[0mmain\u001b[0m\u001b[0;34m(\u001b[0m\u001b[0;34m)\u001b[0m\u001b[0;34m\u001b[0m\u001b[0;34m\u001b[0m\u001b[0m\n\u001b[0m",
      "\u001b[0;32m/var/folders/3q/cnhcx09j2sl7jctskk94y5280000gn/T/ipykernel_31526/1173638076.py\u001b[0m in \u001b[0;36mmain\u001b[0;34m()\u001b[0m\n\u001b[1;32m     26\u001b[0m \u001b[0;34m\u001b[0m\u001b[0m\n\u001b[1;32m     27\u001b[0m         \u001b[0mcv2\u001b[0m\u001b[0;34m.\u001b[0m\u001b[0mimshow\u001b[0m\u001b[0;34m(\u001b[0m\u001b[0;34m\"rgb\"\u001b[0m\u001b[0;34m,\u001b[0m \u001b[0mframe\u001b[0m\u001b[0;34m)\u001b[0m\u001b[0;34m\u001b[0m\u001b[0;34m\u001b[0m\u001b[0m\n\u001b[0;32m---> 28\u001b[0;31m         \u001b[0mserver1\u001b[0m\u001b[0;34m.\u001b[0m\u001b[0mdraw_and_send\u001b[0m\u001b[0;34m(\u001b[0m\u001b[0mframe_rgb\u001b[0m\u001b[0;34m)\u001b[0m \u001b[0;31m# Syphon.Server.draw_and_send(frame) draw frame using opengl and send it to syphon\u001b[0m\u001b[0;34m\u001b[0m\u001b[0;34m\u001b[0m\u001b[0m\n\u001b[0m\u001b[1;32m     29\u001b[0m \u001b[0;34m\u001b[0m\u001b[0m\n\u001b[1;32m     30\u001b[0m         \u001b[0mcv2\u001b[0m\u001b[0;34m.\u001b[0m\u001b[0mimshow\u001b[0m\u001b[0;34m(\u001b[0m\u001b[0;34m\"gray\"\u001b[0m\u001b[0;34m,\u001b[0m \u001b[0mframe_gray\u001b[0m\u001b[0;34m)\u001b[0m\u001b[0;34m\u001b[0m\u001b[0;34m\u001b[0m\u001b[0m\n",
      "\u001b[0;32m~/Desktop/tracking-body/Syphon.py\u001b[0m in \u001b[0;36mdraw_and_send\u001b[0;34m(self, frame)\u001b[0m\n\u001b[1;32m     56\u001b[0m         \u001b[0mglTexImage2D\u001b[0m\u001b[0;34m(\u001b[0m\u001b[0mGL_TEXTURE_2D\u001b[0m\u001b[0;34m,\u001b[0m \u001b[0;36m0\u001b[0m\u001b[0;34m,\u001b[0m \u001b[0mGL_RGB\u001b[0m\u001b[0;34m,\u001b[0m \u001b[0mself\u001b[0m\u001b[0;34m.\u001b[0m\u001b[0msize\u001b[0m\u001b[0;34m[\u001b[0m\u001b[0;36m0\u001b[0m\u001b[0;34m]\u001b[0m\u001b[0;34m,\u001b[0m \u001b[0mself\u001b[0m\u001b[0;34m.\u001b[0m\u001b[0msize\u001b[0m\u001b[0;34m[\u001b[0m\u001b[0;36m1\u001b[0m\u001b[0;34m]\u001b[0m\u001b[0;34m,\u001b[0m \u001b[0;36m0\u001b[0m\u001b[0;34m,\u001b[0m \u001b[0mGL_RGB\u001b[0m\u001b[0;34m,\u001b[0m \u001b[0mGL_UNSIGNED_BYTE\u001b[0m\u001b[0;34m,\u001b[0m \u001b[0mframe\u001b[0m\u001b[0;34m)\u001b[0m\u001b[0;34m\u001b[0m\u001b[0;34m\u001b[0m\u001b[0m\n\u001b[1;32m     57\u001b[0m \u001b[0;34m\u001b[0m\u001b[0m\n\u001b[0;32m---> 58\u001b[0;31m         \u001b[0mself\u001b[0m\u001b[0;34m.\u001b[0m\u001b[0mserver\u001b[0m\u001b[0;34m.\u001b[0m\u001b[0mpublish_frame_texture\u001b[0m\u001b[0;34m(\u001b[0m\u001b[0mself\u001b[0m\u001b[0;34m.\u001b[0m\u001b[0mTextureID\u001b[0m\u001b[0;34m,\u001b[0m \u001b[0msyphonpy\u001b[0m\u001b[0;34m.\u001b[0m\u001b[0mMakeRect\u001b[0m\u001b[0;34m(\u001b[0m\u001b[0;36m0\u001b[0m\u001b[0;34m,\u001b[0m \u001b[0;36m0\u001b[0m\u001b[0;34m,\u001b[0m \u001b[0mself\u001b[0m\u001b[0;34m.\u001b[0m\u001b[0msize\u001b[0m\u001b[0;34m[\u001b[0m\u001b[0;36m0\u001b[0m\u001b[0;34m]\u001b[0m\u001b[0;34m,\u001b[0m \u001b[0mself\u001b[0m\u001b[0;34m.\u001b[0m\u001b[0msize\u001b[0m\u001b[0;34m[\u001b[0m\u001b[0;36m1\u001b[0m\u001b[0;34m]\u001b[0m\u001b[0;34m)\u001b[0m\u001b[0;34m,\u001b[0m \u001b[0msyphonpy\u001b[0m\u001b[0;34m.\u001b[0m\u001b[0mMakeSize\u001b[0m\u001b[0;34m(\u001b[0m\u001b[0mself\u001b[0m\u001b[0;34m.\u001b[0m\u001b[0msize\u001b[0m\u001b[0;34m[\u001b[0m\u001b[0;36m0\u001b[0m\u001b[0;34m]\u001b[0m\u001b[0;34m,\u001b[0m \u001b[0mself\u001b[0m\u001b[0;34m.\u001b[0m\u001b[0msize\u001b[0m\u001b[0;34m[\u001b[0m\u001b[0;36m1\u001b[0m\u001b[0;34m]\u001b[0m\u001b[0;34m)\u001b[0m\u001b[0;34m,\u001b[0m \u001b[0;32mTrue\u001b[0m\u001b[0;34m)\u001b[0m\u001b[0;34m\u001b[0m\u001b[0;34m\u001b[0m\u001b[0m\n\u001b[0m\u001b[1;32m     59\u001b[0m \u001b[0;34m\u001b[0m\u001b[0m\n\u001b[1;32m     60\u001b[0m          \u001b[0;31m# Clear screen\u001b[0m\u001b[0;34m\u001b[0m\u001b[0;34m\u001b[0m\u001b[0m\n",
      "\u001b[0;31mKeyboardInterrupt\u001b[0m: "
     ]
    }
   ],
   "source": [
    "import cv2\n",
    "import Syphon\n",
    "import glfw\n",
    "\n",
    "def main():\n",
    "\n",
    "    # window details\n",
    "    size = (1280, 720)\n",
    "\n",
    "    # window setup\n",
    "    server1 = Syphon.Server(\"Server RGB\", size, show=False) # Syphon.Server(\"window and syphon server name\", frame size, show)\n",
    "    server2 = Syphon.Server(\"Server Gray\", size, show=False)\n",
    "\n",
    "\n",
    "    cap = cv2.VideoCapture(3)\n",
    "    if cap.isOpened() is False:\n",
    "        raise(\"IO Error\")\n",
    "        \n",
    "    # loop\n",
    "    while not server1.should_close() and not server2.should_close():\n",
    "        ret, frame = cap.read() #read camera image\n",
    "        frame = cv2.resize(frame, size)\n",
    "        frame_rgb = cv2.cvtColor(frame, cv2.COLOR_BGR2RGB) #BGR --> RGB\n",
    "        frame_gray = cv2.cvtColor(frame, cv2.COLOR_BGR2GRAY) #BGR --> GRAY\n",
    "        frame_gray = cv2.cvtColor(frame_gray, cv2.COLOR_GRAY2RGB) # GRAY (3 channels)\n",
    "        \n",
    "        cv2.imshow(\"rgb\", frame)\n",
    "        server1.draw_and_send(frame_rgb) # Syphon.Server.draw_and_send(frame) draw frame using opengl and send it to syphon\n",
    "        \n",
    "        cv2.imshow(\"gray\", frame_gray)\n",
    "        server2.draw_and_send(frame_gray)\n",
    "            \n",
    "        if cv2.waitKey(1) & 0xFF == ord('q'):\n",
    "            break\n",
    "\n",
    "    glfw.terminate()\n",
    "    cv2.destroyAllWindows()\n",
    "    exit()\n",
    "\n",
    "\n",
    "if __name__ == \"__main__\":\n",
    "    main()"
   ]
  }
 ],
 "metadata": {
  "kernelspec": {
   "display_name": "aicp",
   "language": "python",
   "name": "python3"
  },
  "language_info": {
   "codemirror_mode": {
    "name": "ipython",
    "version": 3
   },
   "file_extension": ".py",
   "mimetype": "text/x-python",
   "name": "python",
   "nbconvert_exporter": "python",
   "pygments_lexer": "ipython3",
   "version": "3.10.14"
  }
 },
 "nbformat": 4,
 "nbformat_minor": 2
}
